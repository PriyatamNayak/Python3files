{
 "cells": [
  {
   "cell_type": "code",
   "execution_count": 2,
   "metadata": {
    "collapsed": true
   },
   "outputs": [],
   "source": [
    "# import pyodbc\n",
    "# print('pyodbc version:{}'.format(pyodbc.version))\n",
    "#import pymysql #pip install pymysql\n",
    "import smtplib\n",
    "#print('pymysql version:{}'.format(pymysql.__version__))"
   ]
  },
  {
   "cell_type": "code",
   "execution_count": 3,
   "metadata": {
    "collapsed": true
   },
   "outputs": [],
   "source": [
    "# Open database connection\n",
    "# db = pymysql.connect(\"localhost\",\"root\",\"\",\"mywebstart\" )\n",
    "\n",
    "# # prepare a cursor object using cursor() method\n",
    "# cursor = db.cursor()\n",
    "\n",
    "# # execute SQL query using execute() method.\n",
    "# cursor.execute(\"SELECT * from users\")\n",
    "\n",
    "# # Fetch a single row using fetchone() method.\n",
    "# data = cursor.fetchall()\n",
    "# print (data)\n",
    "\n",
    "# # disconnect from server\n",
    "# db.close()"
   ]
  },
  {
   "cell_type": "code",
   "execution_count": 4,
   "metadata": {},
   "outputs": [
    {
     "name": "stdout",
     "output_type": "stream",
     "text": [
      "Successfully sent email\n"
     ]
    }
   ],
   "source": [
    "# sending mails\n",
    "sender = 'sid00932@gmail.com'\n",
    "receiver = ['amitbora007@gmail.com','choppabhargav95@gmail.com']\n",
    "\n",
    "message = \"\"\"From:sid <sid00932@gmail.com>\n",
    "To: Choppa Bhargava <choppabhargav95@gmail.com>\n",
    "Subject: Timepass\n",
    "hello, timepass.....\n",
    "\"\"\"\n",
    "\n",
    "try:\n",
    "   mail = smtplib.SMTP('smtp.gmail.com',587)\n",
    "   mail.starttls()\n",
    "   mail.login(sender,'amitbora12')\n",
    "   mail.sendmail(sender, receiver, message)\n",
    "   print (\"Successfully sent email\")\n",
    "   mail.close()\n",
    "except SMTPException:\n",
    "   print(\"Error: unable to send email\") "
   ]
  },
  {
   "cell_type": "code",
   "execution_count": null,
   "metadata": {
    "collapsed": true
   },
   "outputs": [],
   "source": []
  },
  {
   "cell_type": "code",
   "execution_count": null,
   "metadata": {
    "collapsed": true
   },
   "outputs": [],
   "source": []
  },
  {
   "cell_type": "code",
   "execution_count": null,
   "metadata": {
    "collapsed": true
   },
   "outputs": [],
   "source": []
  }
 ],
 "metadata": {
  "kernelspec": {
   "display_name": "Python 3",
   "language": "python",
   "name": "python3"
  },
  "language_info": {
   "codemirror_mode": {
    "name": "ipython",
    "version": 3
   },
   "file_extension": ".py",
   "mimetype": "text/x-python",
   "name": "python",
   "nbconvert_exporter": "python",
   "pygments_lexer": "ipython3",
   "version": "3.6.2"
  }
 },
 "nbformat": 4,
 "nbformat_minor": 2
}
