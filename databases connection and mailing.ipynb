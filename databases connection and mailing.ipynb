{
 "cells": [
  {
   "cell_type": "code",
   "execution_count": null,
   "metadata": {},
   "outputs": [],
   "source": [
    "import smtplib\n",
    "import pymysql #pip install pymysql\n",
    "print('pymysql version:{}'.format(pymysql.__version__))"
   ]
  },
  {
   "cell_type": "code",
   "execution_count": null,
   "metadata": {},
   "outputs": [],
   "source": [
    "#Open database connection\n",
    "db = pymysql.connect(\"localhost\",\"root\",\"\",\"learn\" )\n",
    "\n",
    "# prepare a cursor object using cursor() method\n",
    "cur = db.cursor()\n",
    "\n",
    "# insert data\n",
    "#fields in table are id, author, title, bodytext,  timestamp\n",
    "\n",
    "#data_id = int(input(\"Enter the id: \")) #it is autoincrement in db so it can be ignored \n",
    "author = input(\"Author Name: \")\n",
    "title = input(\"Post Title: \")\n",
    "text = input(\"Body: \")\n",
    "#date = input(\"Timestamp: \") #datetime in format yyyy-mm-dd hh:mm:ss\n",
    "\n",
    "#cur.execute(\"\"\"INSERT INTO blog_posts(id,author, title, bodytext, timestamp) VALUES ('%d','%s','%s','%s','%s')\"\"\" %(data_id, author, title, text, date))\n",
    "cur.execute(\"\"\"INSERT INTO blog_posts( author, title, bodytext) VALUES ('%s','%s','%s')\"\"\" %(author, title, text))\n",
    "\n",
    "db.commit()\n",
    "# execute SQL query using execute() method.\n",
    "cur.execute(\"SELECT * from blog_posts\")\n",
    "\n",
    "# Fetch a single row using fetchone() method.\n",
    "data = cur.fetchall()\n",
    "#print(data)    #prints the fetched data.\n",
    "for res in data:\n",
    "    print(res)  #prints the data in different rows\n",
    "\n",
    "# disconnect from server\n",
    "cur.close()\n",
    "db.close()"
   ]
  },
  {
   "cell_type": "code",
   "execution_count": null,
   "metadata": {},
   "outputs": [],
   "source": [
    "# sending mails\n",
    "# sender = 'si************.com'\n",
    "# receiver = ['amitbora007@gmail.com']\n",
    "\n",
    "# message = \"\"\"From:si <s.com>\n",
    "# To: amitbora <amitbora007@gmail.com>\n",
    "# Subject: Database connection\n",
    "# hello ,\n",
    "# You recently worked on python script for Database Manipulation. You worked on mysql localhost \n",
    "# at 'port 36'. DB 'learn' and Table 'blog_posts' were used. Python connection was established using 'pymysql'\n",
    "\n",
    "# \"\"\"\n",
    "\n",
    "# try:\n",
    "#    mail = smtplib.SMTP('smtp.gmail.com',587)\n",
    "#    mail.starttls()\n",
    "#    mail.login(sender,'a********2')\n",
    "#    mail.sendmail(sender, receiver, message)\n",
    "#    print (\"Successfully sent email\")\n",
    "#    mail.close()\n",
    "# except SMTPException:\n",
    "#    print(\"Error: unable to send email\") "
   ]
  },
  {
   "cell_type": "code",
   "execution_count": null,
   "metadata": {},
   "outputs": [],
   "source": []
  },
  {
   "cell_type": "code",
   "execution_count": null,
   "metadata": {},
   "outputs": [],
   "source": []
  },
  {
   "cell_type": "code",
   "execution_count": null,
   "metadata": {},
   "outputs": [],
   "source": []
  }
 ],
 "metadata": {
  "kernelspec": {
   "display_name": "Python 3",
   "language": "python",
   "name": "python3"
  },
  "language_info": {
   "codemirror_mode": {
    "name": "ipython",
    "version": 3
   },
   "file_extension": ".py",
   "mimetype": "text/x-python",
   "name": "python",
   "nbconvert_exporter": "python",
   "pygments_lexer": "ipython3",
   "version": "3.6.4"
  }
 },
 "nbformat": 4,
 "nbformat_minor": 2
}
