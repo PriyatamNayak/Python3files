{
 "cells": [
  {
   "cell_type": "code",
   "execution_count": 2,
   "metadata": {},
   "outputs": [],
   "source": [
    "#from twilio.rest import Client\n",
    "#print('twilio version:{}'.format(twilio.__version__))\n",
    "import zerosms"
   ]
  },
  {
   "cell_type": "code",
   "execution_count": 3,
   "metadata": {},
   "outputs": [],
   "source": [
    "# can send messages only to twilio verified number not all\n",
    "# account = 'AC3fcfd22ec562fb92f462c17491e7a8d2'          #twilio account id\n",
    "# auth = 'bcfb6f8ef7233d5bc8dfc55bbdfa7768'             #twilio auth token    #twilio pass amitbora009321\n",
    "# receiver = \"+918*******48\"          # receiver's number\n",
    "# sender = \"+14123282994\"             #twilio number\n",
    "# client = Client(account, auth)     #connection creation with twilio\n",
    "# client.messages.create(from_ = sender , to = receiver, body = 'python twilio messaging test!!!')\n",
    "# print ('success')\n"
   ]
  },
  {
   "cell_type": "code",
   "execution_count": 4,
   "metadata": {},
   "outputs": [
    {
     "name": "stdout",
     "output_type": "stream",
     "text": [
      "Mobile number:9313789352\n",
      "Message:hii\n",
      "\n",
      "\n",
      "Message has been submitted successfully.\n",
      "\n",
      "\n"
     ]
    }
   ],
   "source": [
    "#can send message to any number in india\n",
    "def zerosmssend():\n",
    "    usr_name = '8********8'\n",
    "    usr_pass = 's******2'\n",
    "    send_to = input('Mobile number:')\n",
    "    msg = input(\"Message:\")\n",
    "    zerosms.sms(phno = usr_name, passwd = usr_pass, message = msg, receivernum = send_to)\n",
    "#     zerosms.futuresms(phno=phno,passwd=password,set_time='17:47',set_date='15/12/2017',receivernum=receiver mobile num,\n",
    "#                       message='helloworld!!')\n",
    "zerosmssend()"
   ]
  },
  {
   "cell_type": "code",
   "execution_count": null,
   "metadata": {},
   "outputs": [],
   "source": []
  },
  {
   "cell_type": "code",
   "execution_count": null,
   "metadata": {},
   "outputs": [],
   "source": []
  }
 ],
 "metadata": {
  "kernelspec": {
   "display_name": "Python 3",
   "language": "python",
   "name": "python3"
  },
  "language_info": {
   "codemirror_mode": {
    "name": "ipython",
    "version": 3
   },
   "file_extension": ".py",
   "mimetype": "text/x-python",
   "name": "python",
   "nbconvert_exporter": "python",
   "pygments_lexer": "ipython3",
   "version": "3.6.4"
  }
 },
 "nbformat": 4,
 "nbformat_minor": 2
}
