{
 "cells": [
  {
   "cell_type": "code",
   "execution_count": 58,
   "metadata": {},
   "outputs": [],
   "source": [
    "import numpy as np\n",
    "import pandas as pd\n",
    "from sklearn import cross_validation as cv\n",
    "from sklearn.metrics.pairwise import pairwise_distances\n",
    "from sklearn.metrics import mean_squared_error\n",
    "from math import sqrt\n",
    "import scipy.sparse as sp\n",
    "from scipy.sparse.linalg import svds"
   ]
  },
  {
   "cell_type": "code",
   "execution_count": 59,
   "metadata": {},
   "outputs": [
    {
     "name": "stdout",
     "output_type": "stream",
     "text": [
      "(100000, 4)\n",
      "    user_id  item_id  rating  timestamp\n",
      "0       196      242       3  881250949\n",
      "1       186      302       3  891717742\n",
      "2        22      377       1  878887116\n",
      "3       244       51       2  880606923\n",
      "4       166      346       1  886397596\n",
      "5       298      474       4  884182806\n",
      "6       115      265       2  881171488\n",
      "7       253      465       5  891628467\n",
      "8       305      451       3  886324817\n",
      "9         6       86       3  883603013\n",
      "10       62      257       2  879372434\n",
      "11      286     1014       5  879781125\n",
      "12      200      222       5  876042340\n",
      "13      210       40       3  891035994\n",
      "14      224       29       3  888104457\n",
      "15      303      785       3  879485318\n",
      "16      122      387       5  879270459\n",
      "17      194      274       2  879539794\n",
      "18      291     1042       4  874834944\n",
      "19      234     1184       2  892079237\n",
      "            user_id        item_id         rating     timestamp\n",
      "count  100000.00000  100000.000000  100000.000000  1.000000e+05\n",
      "mean      462.48475     425.530130       3.529860  8.835289e+08\n",
      "std       266.61442     330.798356       1.125674  5.343856e+06\n",
      "min         1.00000       1.000000       1.000000  8.747247e+08\n",
      "25%       254.00000     175.000000       3.000000  8.794487e+08\n",
      "50%       447.00000     322.000000       4.000000  8.828269e+08\n",
      "75%       682.00000     631.000000       4.000000  8.882600e+08\n",
      "max       943.00000    1682.000000       5.000000  8.932866e+08\n",
      "rating\n",
      "1     6110\n",
      "2    11370\n",
      "3    27145\n",
      "4    34174\n",
      "5    21201\n",
      "dtype: int64\n"
     ]
    }
   ],
   "source": [
    "header = [\"user_id\", \"item_id\", \"rating\", \"timestamp\"]\n",
    "df = pd.read_csv(\"ml-100k/u.data\", sep=\"\\t\", names=header)\n",
    "\n",
    "print(df.shape)\n",
    "print(df.head(20))\n",
    "print(df.describe())\n",
    "print(df.groupby(\"rating\").size())"
   ]
  },
  {
   "cell_type": "code",
   "execution_count": 60,
   "metadata": {},
   "outputs": [
    {
     "name": "stdout",
     "output_type": "stream",
     "text": [
      "Number of users = 943| Number of movies = 1682\n"
     ]
    }
   ],
   "source": [
    "users = df.user_id.unique().shape[0]\n",
    "items = df.item_id.unique().shape[0]\n",
    "print (\"Number of users = \" + str(n_users) +  \"| Number of movies = \" + str(n_items))"
   ]
  },
  {
   "cell_type": "code",
   "execution_count": 61,
   "metadata": {},
   "outputs": [],
   "source": [
    "# memory based collaborative filtering\n",
    "train_data, test_data = cv.train_test_split(df, test_size = 0.25)\n",
    "\n",
    "#Create two user-item matrices, one for training and another for testing\n",
    "train_data_matrix = np.zeros((n_users, n_items))\n",
    "for line in train_data.itertuples():\n",
    "    train_data_matrix[line[1]-1, line[2]-1] = line[3]\n",
    "\n",
    "test_data_matrix = np.zeros((n_users, n_items))\n",
    "for line in test_data.itertuples():\n",
    "    test_data_matrix[line[1]-1, line[2]-1] = line[3]\n",
    "    \n",
    "user_similarity = pairwise_distances(train_data_matrix, metric=\"cosine\")\n",
    "item_similarity = pairwise_distances(train_data_matrix.T, metric=\"cosine\")\n"
   ]
  },
  {
   "cell_type": "code",
   "execution_count": 62,
   "metadata": {},
   "outputs": [
    {
     "name": "stdout",
     "output_type": "stream",
     "text": [
      "[[0.12375953 0.1315311  0.13650524 ... 0.15511266 0.15407496 0.15021334]\n",
      " [0.02980407 0.03473661 0.03360406 ... 0.03587864 0.03628792 0.0364258 ]\n",
      " [0.02255015 0.0233308  0.02233456 ... 0.02123372 0.02260559 0.02282947]\n",
      " ...\n",
      " [0.01042492 0.0144176  0.0140885  ... 0.01603315 0.01606187 0.01617702]\n",
      " [0.02970731 0.03100654 0.0336486  ... 0.03548763 0.03569304 0.03542818]\n",
      " [0.071809   0.07143164 0.07610416 ... 0.08813239 0.08744795 0.08466378]]\n",
      "[[ 0.51763911  0.18159406  0.15877603 ...  0.1034872   0.1058924\n",
      "   0.1034872 ]\n",
      " [ 0.44495142  0.07955645  0.04436222 ... -0.02017859 -0.01689813\n",
      "  -0.02017859]\n",
      " [ 0.43585504  0.06580768  0.03321059 ... -0.03396229 -0.03081489\n",
      "  -0.03396229]\n",
      " ...\n",
      " [ 0.39975812  0.05696732  0.02067821 ... -0.0392717  -0.03626905\n",
      "  -0.0392717 ]\n",
      " [ 0.42773433  0.07105965  0.04679214 ... -0.01790008 -0.01515188\n",
      "  -0.01790008]\n",
      " [ 0.45685076  0.11478469  0.0940757  ...  0.03639404  0.0387077\n",
      "   0.03639404]]\n"
     ]
    }
   ],
   "source": [
    "def predict(ratings, similarity, type=\"user\"):\n",
    "    if type == \"user\":\n",
    "        mean_user_rating = ratings.mean(axis=1)\n",
    "        #You use np.newaxis so that mean_user_rating has same format as ratings\n",
    "        ratings_diff = (ratings - mean_user_rating[:, np.newaxis])\n",
    "        pred = mean_user_rating[:, np.newaxis] + similarity.dot(ratings_diff) / np.array([np.abs(similarity).sum(axis=1)]).T\n",
    "    elif type == \"item\":\n",
    "        pred = ratings.dot(similarity) / np.array([np.abs(similarity).sum(axis=1)])\n",
    "    return pred\n",
    "\n",
    "item_prediction = predict(test_data_matrix, item_similarity, type=\"item\")\n",
    "user_prediction = predict(test_data_matrix, user_similarity, type=\"user\")\n"
   ]
  },
  {
   "cell_type": "code",
   "execution_count": 63,
   "metadata": {},
   "outputs": [
    {
     "name": "stdout",
     "output_type": "stream",
     "text": [
      "User-based CF RMSE: 3.5007936265197896\n",
      "Item-based CF RMSE: 3.6153128696669103\n"
     ]
    }
   ],
   "source": [
    "def rmse(prediction, ground_truth):\n",
    "    prediction = prediction[ground_truth.nonzero()].flatten()\n",
    "    ground_truth = ground_truth[ground_truth.nonzero()].flatten()\n",
    "    return sqrt(mean_squared_error(prediction, ground_truth))\n",
    "\n",
    "print (\"User-based CF RMSE: \" + str(rmse(user_prediction, test_data_matrix)))\n",
    "print (\"Item-based CF RMSE: \" + str(rmse(item_prediction, test_data_matrix)))"
   ]
  },
  {
   "cell_type": "code",
   "execution_count": 64,
   "metadata": {},
   "outputs": [
    {
     "name": "stdout",
     "output_type": "stream",
     "text": [
      "the sparsity level of Movielens100K data is 93.7% \n"
     ]
    }
   ],
   "source": [
    "#Model based collaborative filtering \n",
    "sparsity = round(1.0-len(df)/ float(users*items),3)\n",
    "sparseper = sparsity*100\n",
    "print(\"the sparsity level of Movielens100K data is {0}% \".format(sparseper))"
   ]
  },
  {
   "cell_type": "code",
   "execution_count": 66,
   "metadata": {},
   "outputs": [
    {
     "name": "stdout",
     "output_type": "stream",
     "text": [
      "User-based CF MSE: 2.7198631029235094\n"
     ]
    }
   ],
   "source": [
    "#get SVD components from train matrix. Choose k.\n",
    "u, s, vt = svds(train_data_matrix, k = 20)\n",
    "s_diag_matrix=np.diag(s)\n",
    "X_pred = np.dot(np.dot(u, s_diag_matrix), vt)\n",
    "print(\"User-based CF MSE: \" + str(rmse(X_pred, test_data_matrix)))"
   ]
  },
  {
   "cell_type": "code",
   "execution_count": null,
   "metadata": {},
   "outputs": [],
   "source": []
  }
 ],
 "metadata": {
  "kernelspec": {
   "display_name": "Python 3",
   "language": "python",
   "name": "python3"
  },
  "language_info": {
   "codemirror_mode": {
    "name": "ipython",
    "version": 3
   },
   "file_extension": ".py",
   "mimetype": "text/x-python",
   "name": "python",
   "nbconvert_exporter": "python",
   "pygments_lexer": "ipython3",
   "version": "3.6.4"
  }
 },
 "nbformat": 4,
 "nbformat_minor": 2
}
