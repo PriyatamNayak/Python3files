{
 "cells": [
  {
   "cell_type": "code",
   "execution_count": 1,
   "metadata": {
    "collapsed": true
   },
   "outputs": [],
   "source": [
    "% matplotlib inline "
   ]
  },
  {
   "cell_type": "code",
   "execution_count": 2,
   "metadata": {},
   "outputs": [],
   "source": [
    "import matplotlib.pyplot as plt\n",
    "from sklearn import tree #lets you build a decision tree"
   ]
  },
  {
   "cell_type": "code",
   "execution_count": 3,
   "metadata": {
    "collapsed": true
   },
   "outputs": [],
   "source": [
    "# [age\tincome\tstudent\tcredit rating]\n",
    "# X = [[18,100,0,5], [18,100,0,10,], [45,100,0,5], #age-youth=18; middle=45, senior=60\n",
    "#      [60,50,0,5], [60,25,1,5],\n",
    "#      [60,25,1,10], [45,25,1,10], [18,50,0,5],#income-high=100, medium=50, low=25\n",
    "#      [18,25,1,5], [60,50,1,5], [18,50,1,10],#student-no=0, yes=1\n",
    "#      [45,50,0,10],[45,100,1,5],[60,50,0,10]]#credit rating-excelent=10, fair=5\n",
    "\n",
    "# Y = [0,0,1,1,1,0,1,0,1,1,1,1,1,0] #0=no, 1=yes\n",
    "X= \"\""
   ]
  },
  {
   "cell_type": "code",
   "execution_count": 4,
   "metadata": {
    "scrolled": true
   },
   "outputs": [
    {
     "name": "stdout",
     "output_type": "stream",
     "text": [
      "\n",
      "****Buy Computer Classifier Using Decision Tree by Kal El****\n",
      "\n",
      "Prediction says: Not a computer buyer\n"
     ]
    },
    {
     "data": {
      "text/plain": [
       "<matplotlib.figure.Figure at 0x23fd9467518>"
      ]
     },
     "metadata": {},
     "output_type": "display_data"
    }
   ],
   "source": [
    "#variable to store the decision tree model\n",
    "clf=tree.DecisionTreeClassifier()\n",
    "\n",
    "#training\n",
    "\n",
    "clf=clf.fit(X,Y) #fit method trains the decision tree on our dataset\n",
    "\n",
    "#variable to store the result of the prediction\n",
    "\n",
    "prediction=clf.predict([[18,1,0,5]])\n",
    "\n",
    "print(\"\\n****Buy Computer Classifier Using Decision Tree by Kal El****\\n\")\n",
    "if prediction==0:\n",
    "    print('Prediction says: Not a computer buyer')\n",
    "else:\n",
    "    print('Prediction says: Potential computer buyer')\n",
    "\n",
    "plt.clf();"
   ]
  },
  {
   "cell_type": "code",
   "execution_count": null,
   "metadata": {
    "collapsed": true
   },
   "outputs": [],
   "source": []
  },
  {
   "cell_type": "code",
   "execution_count": null,
   "metadata": {
    "collapsed": true
   },
   "outputs": [],
   "source": []
  },
  {
   "cell_type": "code",
   "execution_count": null,
   "metadata": {
    "collapsed": true
   },
   "outputs": [],
   "source": []
  }
 ],
 "metadata": {
  "kernelspec": {
   "display_name": "Python 3",
   "language": "python",
   "name": "python3"
  },
  "language_info": {
   "codemirror_mode": {
    "name": "ipython",
    "version": 3
   },
   "file_extension": ".py",
   "mimetype": "text/x-python",
   "name": "python",
   "nbconvert_exporter": "python",
   "pygments_lexer": "ipython3",
   "version": "3.6.2"
  }
 },
 "nbformat": 4,
 "nbformat_minor": 2
}
